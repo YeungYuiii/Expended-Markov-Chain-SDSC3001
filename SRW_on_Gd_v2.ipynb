{
 "cells": [
  {
   "cell_type": "code",
   "execution_count": 7,
   "metadata": {},
   "outputs": [
    {
     "data": {
      "image/png": "[encoded data removed]",
      "text/plain": [
       "<Figure size 640x480 with 1 Axes>"
      ]
     },
     "metadata": {},
     "output_type": "display_data"
    }
   ],
   "source": [
    "import matplotlib.pyplot as plt\n",
    "import networkx as nx\n",
    "def generate_graphlet(input):             #input: a graph\n",
    "    graphs = []\n",
    "    new_graphs = [g for g in nx.graph_atlas_g() if len(g.nodes())==input]\n",
    "\n",
    "    for graph in new_graphs:\n",
    "        if len(list(nx.connected_components(graph))) == 1:      #reject the graph with is not connected (would not be the graphlet)\n",
    "            graphs.append(graph)\n",
    "    return graphs\n",
    "graphs = generate_graphlet(5)\n",
    "nx.draw(graphs[9], with_labels=True, node_size=500, node_color='lightblue', font_size=10, font_color='black')\n",
    "plt.title(\"Sample Graph\")\n",
    "plt.show()"
   ]
  },
  {
   "cell_type": "code",
   "execution_count": 8,
   "metadata": {},
   "outputs": [],
   "source": [
    "G = graphs[9]"
   ]
  },
  {
   "cell_type": "markdown",
   "metadata": {},
   "source": [
    "# Function for SRW on G(d)"
   ]
  },
  {
   "cell_type": "code",
   "execution_count": 10,
   "metadata": {},
   "outputs": [
    {
     "name": "stdout",
     "output_type": "stream",
     "text": [
      "{(1, 1, 2, 2): 2, (1, 2, 2, 3): 1, (2, 2, 3, 3): 1}\n"
     ]
    }
   ],
   "source": [
    "import networkx as nx\n",
    "from itertools import combinations\n",
    "\n",
    "# Improved function to count only connected graphlets of a given size in a graph\n",
    "def count_connected_graphlets(G, size):\n",
    "    # Dictionary to hold graphlet counts\n",
    "    graphlet_counts = {}\n",
    "    \n",
    "    # Iterate over all combinations of nodes of the given size\n",
    "    for nodes in combinations(G.nodes(), size):\n",
    "        # Induce subgraph from each combination of nodes\n",
    "        subgraph = G.subgraph(nodes)\n",
    "        # Check if the subgraph is connected\n",
    "        if nx.is_connected(subgraph):\n",
    "            # Get the degree sequence of the subgraph (sorted)\n",
    "            degree_sequence = tuple(sorted([subgraph.degree(n) for n in nodes]))\n",
    "            # Increment count in dictionary\n",
    "            graphlet_counts[degree_sequence] = graphlet_counts.get(degree_sequence, 0) + 1\n",
    "    \n",
    "    return graphlet_counts\n",
    "\n",
    "# Count connected graphlets of size 4 (triangles and two-star chains)\n",
    "connected_graphlet_counts = count_connected_graphlets(G, 4)\n",
    "\n",
    "# Output the counts of the connected graphlets\n",
    "print(connected_graphlet_counts)\n"
   ]
  },
  {
   "cell_type": "code",
   "execution_count": 3,
   "metadata": {},
   "outputs": [],
   "source": [
    "import random\n",
    "import queue\n",
    "\n",
    "# Functions for SRW on G(d)\n",
    "\n",
    "# A state is a graph with d nodes. We repersent it as a nx.Graph(). Noted the differnt of currect_state, walking_state, and next_state.\n",
    "\n",
    "# State operation\n",
    "\n",
    "def remove_random_node(current_state):\n",
    "    nodes = list(current_state.nodes())\n",
    "    node_removed = random.choice(nodes)\n",
    "    walking_state = current_state.copy()\n",
    "    walking_state.remove_node(node_removed)\n",
    "    return walking_state, node_removed\n",
    "\n",
    "# find possible node can be added for each node in a state\n",
    "def find_all_possible_new_node(current_state):\n",
    "    nodes = list(current_state.nodes())\n",
    "    candidate_nodes_dict = {}\n",
    "    for node in nodes:\n",
    "        # neighbors is a list\n",
    "        neighbors = list(G.neighbors(node))\n",
    "        candidate_nodes_dict[node] = [x for x in neighbors if x not in nodes]\n",
    "    return candidate_nodes_dict\n",
    "\n",
    "# return all possible walking state\n",
    "def find_all_possible_walking_state(current_state):\n",
    "\n",
    "    nodes = list(current_state.nodes())\n",
    "    possible_walking_states = []\n",
    "\n",
    "    if len(nodes) == 1:\n",
    "        possible_walking_states.append(current_state)\n",
    "        return possible_walking_states\n",
    "\n",
    "    for node in nodes:\n",
    "        walking_state = current_state.copy()\n",
    "        walking_state.remove_node(node)\n",
    "        possible_walking_states.append(walking_state)\n",
    "    return possible_walking_states\n",
    "\n",
    "# check if the walking state any disconnection\n",
    "def subgraph_counting(walking_state):\n",
    "    subgraph_listing = list(nx.connected_components(walking_state))\n",
    "    return subgraph_listing, len(subgraph_listing)\n",
    "\n",
    "# just validation, doesn't return a new state!\n",
    "def walking_validation(walking_state, newnode, newedges, degree_req = 0):\n",
    "    \n",
    "    if degree_req != 0:\n",
    "        if len(newedges) < degree_req:\n",
    "            return False\n",
    "    \n",
    "    checking_state = walking_state.copy()\n",
    "    checking_state.add_node(newnode)\n",
    "    checking_state.add_edges_from(newedges)\n",
    "    \n",
    "    if len(list(nx.connected_components(checking_state))) == 1:\n",
    "        return newedges\n",
    "    else:\n",
    "        return False\n"
   ]
  },
  {
   "cell_type": "code",
   "execution_count": 4,
   "metadata": {},
   "outputs": [],
   "source": [
    "def extract_valid_new_state(current_state, G):\n",
    "\n",
    "    candidate_nodes_dict = find_all_possible_new_node(current_state)\n",
    "\n",
    "    possible_walking_states = find_all_possible_walking_state(current_state)\n",
    "\n",
    "    drop_add_list, edges_list = [], []\n",
    "\n",
    "    for walking_state in possible_walking_states:\n",
    "        if len(possible_walking_states) == 1:\n",
    "            missing_node = list(walking_state.nodes())[0]\n",
    "            remining_nodes = list(walking_state.nodes())\n",
    "        else:\n",
    "            missing_node = (set(current_state.nodes()) - set(walking_state.nodes())).pop()\n",
    "            remining_nodes = list(walking_state.nodes())\n",
    "        checked_candidate = []\n",
    "        for node_remained in remining_nodes:\n",
    "            for newnode in candidate_nodes_dict[node_remained]:\n",
    "                    newedges = [(newnode, v) for newnode, v in G.edges(newnode) if v in walking_state]\n",
    "                    if newnode not in checked_candidate:\n",
    "                        checked_candidate.append(newnode)\n",
    "                        if walking_validation(walking_state, newnode, newedges):\n",
    "                            drop_add_list.append((missing_node, newnode))\n",
    "                            edges_list.append(newedges)\n",
    "\n",
    "    return drop_add_list, edges_list\n"
   ]
  },
  {
   "cell_type": "markdown",
   "metadata": {},
   "source": [
    "# Functions for line #3"
   ]
  },
  {
   "cell_type": "code",
   "execution_count": null,
   "metadata": {},
   "outputs": [],
   "source": [
    "import queue\n",
    "\n",
    "# Functions for line #3, walk l step to get the initial state X(l)\n",
    "\n",
    "# We have consider use a nx.Graph() represent the X(l), that contain information about the edge (H) connecting different state.\n",
    "# However, we found that the links between states are prevented and are not nessary information, what important is the squence.\n",
    "# We can use only the list to store the X(l) instead of nx.Graph().\n",
    "# So we will have a list of nx.Graph() instead of graph of graph for X(l).\n",
    "# In that sence, for line #6, we don't need to reconstruct graphlet by refering to the original G. But we can reconstruct the graphlet by only refering to X(l).\n",
    "\n",
    "# Here are function for intializing first state X1. We first randomly pick a node and perfrom random walk to find d distinct node for X1,\n",
    "# there could be repeat node during the random walk resulting not enough distinct elements, so it keep walking until the last d node are all distinct.\n",
    "# We observed that this method will not yeild a uniform selection for X1 on G(d). However, the paper claim that as the estimation \n",
    "# will converage despite any intial X1 and even X(l), Marco suggested that non-uniform selection is not a problem \n",
    "# and our uniform selection methods via combination was not performed.\n",
    "\n",
    "def SingleNode_SRW(node, G, previous_node=False):\n",
    "    # Here you can see a complete non-backtracking(NB) random walk intialization logic. You will not see a single NB function for \n",
    "    # extented markov chain because sperated function can help us perform two type of SRW (SRW vs NBSRW) for performance comparsion, but here I write them tgt in \n",
    "    # single function SingleNode_SRW because it imporve the efficiency of generating X1 and we don't need comparsion for SRW and NBSRW here.\n",
    "    neighbors = list(G.neighbors(node))\n",
    "    if len(neighbors) == 1:\n",
    "        return neighbors[0]\n",
    "    if previous_node:\n",
    "        neighbors.remove(previous_node)\n",
    "    random_neighbor = random.choice(neighbors)\n",
    "    return random_neighbor\n",
    "\n",
    "# Initializing X1 (the first state with d nodes) for the initial state X(l), where l = k - d + 1.\n",
    "def initialize_X1(G, d):\n",
    "    if d > len(list(G.nodes())):\n",
    "        raise ValueError(\"Parameter must be lower than the number of nodes in original graph.\")\n",
    "    x1_node = []\n",
    "    # initailize node via sigle node simple random walk\n",
    "    node = random.choice(list(G.nodes()))\n",
    "    x1_node.append(node)\n",
    "    while True:\n",
    "        node = SingleNode_SRW(node, G)\n",
    "        x1_node.append(node)\n",
    "        if len(set(x1_node[-d:])) == d:\n",
    "            break\n",
    "    x1 = nx.Graph()\n",
    "    x1.add_nodes_from(x1_node[-d:])\n",
    "    for node in x1_node[-d:]:\n",
    "        edges = [(newnode, v) for newnode, v in G.edges(node) if v in x1]\n",
    "        x1.add_edges_from(edges)\n",
    "\n",
    "    return x1\n",
    "\n",
    "\n",
    "# Here are function for initialize X(l). Since we now have X1, we can generate X(l) via SRW on G(d).\n",
    "# queue applied\n",
    "\n",
    "# This function integrate SRW and NBSRW controlled by if the pervious_transfor provided.\n",
    "def SRW(X, G, pervious_transfor=False):\n",
    "\n",
    "    state = X.copy()\n",
    "    srw = extract_valid_new_state(state, G)\n",
    "\n",
    "    if pervious_transfor:\n",
    "\n",
    "        a, b = pervious_transfor\n",
    "        node_operation = (b, a)\n",
    "        i = srw[0].index(node_operation)\n",
    "        srw[0].pop(i)\n",
    "        edges = srw[1].pop(i)\n",
    "\n",
    "        # be careful that if degree = 1 for current state, walk back to pervous state.\n",
    "        if len(srw[0]) == 0:\n",
    "\n",
    "            state.remove_node(node_operation[0])\n",
    "            state.add_node(node_operation[1])\n",
    "            if len(list(state.nodes())) > 1:\n",
    "                state.add_edges_from(edges)\n",
    "\n",
    "            return state, node_operation, node_operation[0], node_operation[1]\n",
    "    \n",
    "    path = random.randint(0, len(srw[0])-1)\n",
    "    node_operation = srw[0][path]\n",
    "    edges = srw[1][path]\n",
    "    state.remove_node(node_operation[0])\n",
    "    state.add_node(node_operation[1])\n",
    "    if len(list(state.nodes())) > 1:\n",
    "        state.add_edges_from(edges)\n",
    "\n",
    "    return state, node_operation, node_operation[0], node_operation[1]\n",
    "\n",
    "def initialize_Xl_and_induced_subgraph(X1, G, k, X=nx.Graph(), induced_subgraph=nx.Graph()):\n",
    "    d = len(list(X1.nodes()))\n",
    "    # The length of X(l)\n",
    "    l = k - d\n",
    "    X = X1.copy()\n",
    "    Xl = queue.Queue()\n",
    "    deleted_node = queue.Queue()\n",
    "    Xl.put(X)\n",
    "    pervious_transfor=False\n",
    "    \n",
    "    for _ in range(l):\n",
    "        # same as X1 intialization, it is NB intialization, pervious_transfor will be provided onec walk.\n",
    "        X, pervious_transfor, node_removed, added_node = SRW(X, G, pervious_transfor)\n",
    "        Xl.put(X)\n",
    "        deleted_node.put(node_removed)\n",
    "        induced_subgraph.update(X)\n",
    "\n",
    "    return Xl, added_node, deleted_node, induced_subgraph\n"
   ]
  },
  {
   "cell_type": "code",
   "execution_count": null,
   "metadata": {},
   "outputs": [],
   "source": [
    "x1 = initialize_X1(G, 2)\n",
    "x1.nodes()"
   ]
  },
  {
   "cell_type": "code",
   "execution_count": null,
   "metadata": {},
   "outputs": [],
   "source": [
    "xl, added_node, deleted_node, induced_subgraph= initialize_Xl_and_induced_subgraph(x1, G, k=5)"
   ]
  },
  {
   "cell_type": "code",
   "execution_count": null,
   "metadata": {},
   "outputs": [],
   "source": [
    "induced_subgraph.nodes()"
   ]
  },
  {
   "cell_type": "code",
   "execution_count": null,
   "metadata": {},
   "outputs": [],
   "source": [
    "while not xl.empty():\n",
    "    item = xl.get()\n",
    "    print(item.nodes())"
   ]
  },
  {
   "cell_type": "code",
   "execution_count": null,
   "metadata": {},
   "outputs": [],
   "source": [
    "while not deleted_node.empty():\n",
    "    denode = deleted_node.get()\n",
    "    print(denode)"
   ]
  },
  {
   "cell_type": "code",
   "execution_count": null,
   "metadata": {},
   "outputs": [],
   "source": [
    "# There could be more than one method to check the graphlet induced by X(l),\n",
    "# Firstly, we can identify each graplet by just looking at degree combination in that subgraph. (permutation is not important because of the isomorphic nature)\n",
    "# 1. extract a set of all distinct node from X(l) and count their degree connect to other nodes in that set accorardiing to original graph.\n",
    "# 2. recontruct subgraph induced by X(l) and count degree for each node.\n",
    "\n",
    "# We adopt the second method. But we will encounter an issue with how to utilize queue applied during X(l) random walk. \n",
    "# Because the recontruction of subgraph induced by X(l) required to check all state in X(l)\n",
    "# Max suggested that we can maintain the graph during X(l) random walk. In that way we only need to add new state added to X(l) and delete the oldest state deleted in X(l).\n",
    "# Thus don't need to recontruct the whole subgraph after each walk (i.e. don't need to check state not at the end of the queue)\n",
    "\n",
    "def subgraph_maintain(induced_subgraph = nx.Graph()):\n",
    "\n",
    "    induced_subgraph\n",
    "\n",
    "def subgraph_update(state_removed, state_added):\n"
   ]
  }
 ],
 "metadata": {
  "kernelspec": {
   "display_name": "base",
   "language": "python",
   "name": "python3"
  },
  "language_info": {
   "codemirror_mode": {
    "name": "ipython",
    "version": 3
   },
   "file_extension": ".py",
   "mimetype": "text/x-python",
   "name": "python",
   "nbconvert_exporter": "python",
   "pygments_lexer": "ipython3",
   "version": "3.11.5"
  }
 },
 "nbformat": 4,
 "nbformat_minor": 2
}
