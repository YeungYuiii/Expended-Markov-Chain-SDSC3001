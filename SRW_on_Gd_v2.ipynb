{
 "cells": [
  {
   "cell_type": "code",
   "execution_count": 1,
   "metadata": {},
   "outputs": [
    {
     "data": {
      "image/png": "[encoded data removed]",
      "text/plain": [
       "<Figure size 640x480 with 1 Axes>"
      ]
     },
     "metadata": {},
     "output_type": "display_data"
    }
   ],
   "source": [
    "import matplotlib.pyplot as plt\n",
    "import networkx as nx\n",
    "def generate_graphlet(input):             #input: a graph\n",
    "    graphs = []\n",
    "    new_graphs = [g for g in nx.graph_atlas_g() if len(g.nodes())==input]\n",
    "\n",
    "    for graph in new_graphs:\n",
    "        if len(list(nx.connected_components(graph))) == 1:      #reject the graph with is not connected (would not be the graphlet)\n",
    "            graphs.append(graph)\n",
    "    return graphs\n",
    "graphs = generate_graphlet(5)\n",
    "nx.draw(graphs[9], with_labels=True, node_size=500, node_color='lightblue', font_size=10, font_color='black')\n",
    "plt.title(\"Sample Graph\")\n",
    "plt.show()"
   ]
  },
  {
   "cell_type": "code",
   "execution_count": 2,
   "metadata": {},
   "outputs": [],
   "source": [
    "G = graphs[9]"
   ]
  },
  {
   "cell_type": "markdown",
   "metadata": {},
   "source": [
    "# Function for SRW on G(d)"
   ]
  },
  {
   "cell_type": "code",
   "execution_count": 3,
   "metadata": {},
   "outputs": [],
   "source": [
    "import random\n",
    "import queue\n",
    "\n",
    "# Functions for SRW on G(d)\n",
    "\n",
    "# A state is a graph with d nodes. We repersent it as a nx.Graph(). Noted the differnt of currect_state, walking_state, and next_state.\n",
    "\n",
    "# State operation\n",
    "\n",
    "def remove_random_node(current_state):\n",
    "    nodes = list(current_state.nodes())\n",
    "    node_removed = random.choice(nodes)\n",
    "    walking_state = current_state.copy()\n",
    "    walking_state.remove_node(node_removed)\n",
    "    return walking_state, node_removed\n",
    "\n",
    "# find possible node can be added for each node in a state\n",
    "def find_all_possible_new_node(current_state):\n",
    "    nodes = list(current_state.nodes())\n",
    "    candidate_nodes_dict = {}\n",
    "    for node in nodes:\n",
    "        # neighbors is a list\n",
    "        neighbors = list(G.neighbors(node))\n",
    "        candidate_nodes_dict[node] = [x for x in neighbors if x not in nodes]\n",
    "    return candidate_nodes_dict\n",
    "\n",
    "# return all possible walking state\n",
    "def find_all_possible_walking_state(current_state):\n",
    "\n",
    "    nodes = list(current_state.nodes())\n",
    "    possible_walking_states = []\n",
    "\n",
    "    if len(nodes) == 1:\n",
    "        possible_walking_states.append(current_state)\n",
    "        return possible_walking_states\n",
    "\n",
    "    for node in nodes:\n",
    "        walking_state = current_state.copy()\n",
    "        walking_state.remove_node(node)\n",
    "        possible_walking_states.append(walking_state)\n",
    "    return possible_walking_states\n",
    "\n",
    "# check if the walking state any disconnection\n",
    "def subgraph_counting(walking_state):\n",
    "    subgraph_listing = list(nx.connected_components(walking_state))\n",
    "    return subgraph_listing, len(subgraph_listing)\n",
    "\n",
    "# just validation, doesn't return a new state!\n",
    "def walking_validation(walking_state, newnode, newedges, degree_req = 0):\n",
    "    \n",
    "    if degree_req != 0:\n",
    "        if len(newedges) < degree_req:\n",
    "            return False\n",
    "    \n",
    "    checking_state = walking_state.copy()\n",
    "    checking_state.add_node(newnode)\n",
    "    checking_state.add_edges_from(newedges)\n",
    "    \n",
    "    if len(list(nx.connected_components(checking_state))) == 1:\n",
    "        return newedges\n",
    "    else:\n",
    "        return False\n"
   ]
  },
  {
   "cell_type": "code",
   "execution_count": 107,
   "metadata": {},
   "outputs": [],
   "source": [
    "def extract_valid_new_state(current_state, G):\n",
    "\n",
    "    candidate_nodes_dict = find_all_possible_new_node(current_state)\n",
    "\n",
    "    possible_walking_states = find_all_possible_walking_state(current_state)\n",
    "\n",
    "    drop_add_list, edges_list = [], []\n",
    "\n",
    "    for walking_state in possible_walking_states:\n",
    "        if len(possible_walking_states) == 1:\n",
    "            missing_node = list(walking_state.nodes())[0]\n",
    "            remining_nodes = list(walking_state.nodes())\n",
    "        else:\n",
    "            missing_node = (set(current_state.nodes()) - set(walking_state.nodes())).pop()\n",
    "            remining_nodes = list(walking_state.nodes())\n",
    "        checked_candidate = []\n",
    "        for node_remained in remining_nodes:\n",
    "            for newnode in candidate_nodes_dict[node_remained]:\n",
    "                    newedges = [(newnode, v) for newnode, v in G.edges(newnode) if v in walking_state]\n",
    "                    if newnode not in checked_candidate:\n",
    "                        checked_candidate.append(newnode)\n",
    "                        if walking_validation(walking_state, newnode, newedges):\n",
    "                            drop_add_list.append((missing_node, newnode))\n",
    "                            edges_list.append(newedges)\n",
    "\n",
    "    return drop_add_list, edges_list\n"
   ]
  },
  {
   "cell_type": "markdown",
   "metadata": {},
   "source": [
    "# Functions for line #3"
   ]
  },
  {
   "cell_type": "code",
   "execution_count": 5,
   "metadata": {},
   "outputs": [],
   "source": [
    "# Functions for line #3, walk l step to get the initial state X(l)\n",
    "\n",
    "# We have consider use a nx.Graph() represent the X(l), that contain information about the edge (H) connecting different state.\n",
    "# However, we found that the links between states are prevented and are not nessary information, what important is the squence.\n",
    "# We can use only the list to store the X(l) instead of nx.Graph().\n",
    "# So we will have a list of nx.Graph() instead of graph of graph for X(l).\n",
    "# In that sence, for line #6, we don't need to reconstruct graphlet by refering to the original G. But we can reconstruct the graphlet by only refering to X(l).\n",
    "\n",
    "# Here are function for intializing first state X1. We first randomly pick a node and perfrom random walk to find d distinct node for X1,\n",
    "# there could be repeat node during the random walk resulting not enough distinct elements, so it keep walking until the last d node are all distinct.\n",
    "# We observed that this method will not yeild a uniform selection for X1 on G(d). However, the paper claim that as the estimation \n",
    "# will converage despite any intial X1 and even X(l), Marco suggested that non-uniform selection is not a problem \n",
    "# and our uniform selection methods via combination was not performed.\n",
    "\n",
    "def SingleNode_SRW(node, G, previous_node=False):\n",
    "    # Here you can see a complete non-backtracking(NB) random walk intialization logic. You will not see a single NB function for \n",
    "    # extented markov chain because sperated function can help us perform two type of SRW (SRW vs NBSRW) for performance comparsion, but here I write them tgt in \n",
    "    # single function SingleNode_SRW because it imporve the efficiency of generating X1 and we don't need comparsion for SRW and NBSRW here.\n",
    "    neighbors = list(G.neighbors(node))\n",
    "    if len(neighbors) == 1:\n",
    "        return neighbors[0]\n",
    "    if previous_node:\n",
    "        neighbors.remove(previous_node)\n",
    "    random_neighbor = random.choice(neighbors)\n",
    "    return random_neighbor\n",
    "\n",
    "# Initializing X1 (the first state with d nodes) for the initial state X(l), where l = k - d + 1.\n",
    "def initialize_X1(G, d):\n",
    "    if d > len(list(G.nodes())):\n",
    "        raise ValueError(\"Parameter must be lower than the number of nodes in original graph.\")\n",
    "    x1_node = []\n",
    "    # initailize node via sigle node simple random walk\n",
    "    node = random.choice(list(G.nodes()))\n",
    "    x1_node.append(node)\n",
    "    while True:\n",
    "        node = SingleNode_SRW(node, G)\n",
    "        x1_node.append(node)\n",
    "        if len(set(x1_node[-d:])) == d:\n",
    "            break\n",
    "    x1 = nx.Graph()\n",
    "    x1.add_nodes_from(x1_node[-d:])\n",
    "    for node in x1_node[-d:]:\n",
    "        edges = [(newnode, v) for newnode, v in G.edges(node) if v in x1]\n",
    "        x1.add_edges_from(edges)\n",
    "\n",
    "    return x1"
   ]
  },
  {
   "cell_type": "code",
   "execution_count": 134,
   "metadata": {},
   "outputs": [],
   "source": [
    "from collections import deque\n",
    "\n",
    "# Here are function for initialize X(l). Since we now have X1, we can generate X(l) via SRW on G(d).\n",
    "\n",
    "# This function integrate SRW and NBSRW controlled by if the pervious_transfor provided.\n",
    "def SRW(X, G, pervious_transfor=False, NB=False):\n",
    "\n",
    "    state = X.copy()\n",
    "    srw = extract_valid_new_state(state, G)\n",
    "\n",
    "    if NB and pervious_transfor:\n",
    "\n",
    "        a, b = pervious_transfor\n",
    "        node_operation = (b, a)\n",
    "        i = srw[0].index(node_operation)\n",
    "        srw[0].pop(i)\n",
    "        edges = srw[1].pop(i)\n",
    "\n",
    "        # be careful that if degree = 1 for current state, walk back to pervous state.\n",
    "        if len(srw[0]) == 0:\n",
    "\n",
    "            state.remove_node(node_operation[0])\n",
    "            state.add_node(node_operation[1])\n",
    "            if len(list(state.nodes())) > 1:\n",
    "                state.add_edges_from(edges)\n",
    "\n",
    "            return state, node_operation\n",
    "    \n",
    "    path = random.randint(0, len(srw[0])-1)\n",
    "    node_operation = srw[0][path]\n",
    "    edges = srw[1][path]\n",
    "    state.remove_node(node_operation[0])\n",
    "    state.add_node(node_operation[1])\n",
    "    if len(list(state.nodes())) > 1:\n",
    "        state.add_edges_from(edges)\n",
    "\n",
    "    return state, node_operation\n",
    "\n",
    "\n",
    "# This initialzation will also intialize the subgraph induced by X(l).\n",
    "def initialize_Xl_and_induced_subgraph(X1, G, k, X=nx.Graph()):\n",
    "    \n",
    "    d = len(list(X1.nodes()))\n",
    "    if not d < k:\n",
    "        raise ValueError(\"d >= k.\")\n",
    "    # The length of X(l)\n",
    "    l = k - d + 1\n",
    "\n",
    "    X = X1.copy()\n",
    "    Xl = deque(maxlen=l)\n",
    "    induced_subgraph=nx.Graph()\n",
    "    \n",
    "    Xl.append(X)\n",
    "    induced_subgraph.update(X)\n",
    "    pervious_transfor=False\n",
    "    \n",
    "    for _ in range(l-1):\n",
    "        # same as X1 intialization, it is NB intialization, pervious_transfor will be provided onec walk.\n",
    "        X, pervious_transfor = SRW(X, G, pervious_transfor, True)\n",
    "        Xl.append(X)\n",
    "        induced_subgraph.update(X)\n",
    "\n",
    "    return Xl, X, pervious_transfor, induced_subgraph"
   ]
  },
  {
   "cell_type": "code",
   "execution_count": 157,
   "metadata": {},
   "outputs": [
    {
     "data": {
      "text/plain": [
       "NodeView((2, 4, 1, 3))"
      ]
     },
     "execution_count": 157,
     "metadata": {},
     "output_type": "execute_result"
    }
   ],
   "source": [
    "x1 = initialize_X1(G, 4)\n",
    "x1.nodes()"
   ]
  },
  {
   "cell_type": "code",
   "execution_count": 158,
   "metadata": {},
   "outputs": [],
   "source": [
    "xl, x, pervious_transfor, induced_subgraph = initialize_Xl_and_induced_subgraph(x1, G, k=5)"
   ]
  },
  {
   "cell_type": "code",
   "execution_count": 159,
   "metadata": {},
   "outputs": [
    {
     "data": {
      "text/plain": [
       "NodeView((2, 4, 1, 3, 0))"
      ]
     },
     "execution_count": 159,
     "metadata": {},
     "output_type": "execute_result"
    }
   ],
   "source": [
    "induced_subgraph.nodes()"
   ]
  },
  {
   "cell_type": "code",
   "execution_count": 160,
   "metadata": {},
   "outputs": [
    {
     "name": "stdout",
     "output_type": "stream",
     "text": [
      "[2, 4, 1, 3]\n",
      "[2, 4, 1, 0]\n"
     ]
    }
   ],
   "source": [
    "for state in xl:\n",
    "    print(state.nodes())"
   ]
  },
  {
   "cell_type": "code",
   "execution_count": 161,
   "metadata": {},
   "outputs": [],
   "source": [
    "# There could be more than one method to check the graphlet induced by X(l),\n",
    "# Firstly, we can identify each graplet by just looking at degree combination in that subgraph. (permutation is not important because of the isomorphic nature)\n",
    "# 1. extract a set of all distinct node from X(l) and count their degree connect to other nodes in that set accorardiing to original graph.\n",
    "# 2. recontruct subgraph induced by X(l) and count degree for each node.\n",
    "\n",
    "# We adopt the second method. But we will encounter an issue with how to utilize queue applied during X(l) random walk. \n",
    "# Because the recontruction of subgraph induced by X(l) required to check all state in X(l)\n",
    "# Max suggested that we can maintain the graph during X(l) random walk. In that way we only need to add new state added to X(l) and delete the oldest state deleted in X(l).\n",
    "# Thus don't need to recontruct the whole subgraph after each walk (i.e. don't need to check state not at the end of the queue)\n",
    "\n",
    "# After coding Max found that there are some issue, we can not easily delete node from the oldest state because the node may still remain in other \n",
    "# state inside the queue. One way to solve that is keep counting the remaining node inside the queue, when it go to zero then we can ensure that\n",
    "# the node is completely removed from the queue. \n",
    "# We didn't implement that but. We go back to list."
   ]
  },
  {
   "cell_type": "markdown",
   "metadata": {},
   "source": [
    "# Function for lines #8, 9"
   ]
  },
  {
   "cell_type": "code",
   "execution_count": 162,
   "metadata": {},
   "outputs": [],
   "source": [
    "# recontruct subgraph indeuced by X(l)\n",
    "def subgraph_induced(xl):\n",
    "    subgraph = nx.Graph()\n",
    "    for x in xl:\n",
    "        subgraph.update(x)\n",
    "    return subgraph"
   ]
  },
  {
   "cell_type": "code",
   "execution_count": 163,
   "metadata": {},
   "outputs": [],
   "source": [
    "# If want to perform NBSRW, just simply give pervious transfor and NB=True.\n",
    "def extented_markov_chain(x, xl, pervious_transfor=False, NB=False):\n",
    "    x, pervious_transfor = SRW(x, G, pervious_transfor, NB)\n",
    "    xl.append(x)\n",
    "    induced_subgraph = subgraph_induced(xl)\n",
    "    return x, xl, pervious_transfor, induced_subgraph"
   ]
  },
  {
   "cell_type": "code",
   "execution_count": 164,
   "metadata": {},
   "outputs": [
    {
     "data": {
      "text/plain": [
       "NodeView((2, 4, 1, 0))"
      ]
     },
     "execution_count": 164,
     "metadata": {},
     "output_type": "execute_result"
    }
   ],
   "source": [
    "x.nodes()"
   ]
  },
  {
   "cell_type": "code",
   "execution_count": 166,
   "metadata": {},
   "outputs": [
    {
     "ename": "KeyboardInterrupt",
     "evalue": "",
     "output_type": "error",
     "traceback": [
      "\u001b[1;31m---------------------------------------------------------------------------\u001b[0m",
      "\u001b[1;31mKeyboardInterrupt\u001b[0m                         Traceback (most recent call last)",
      "\u001b[1;32mc:\\Users\\tswmp\\.vscode\\yyui\\sdsc3001\\3001_Group_Project\\SRW_on_Gd_v2.ipynb Cell 19\u001b[0m line \u001b[0;36m2\n\u001b[0;32m      <a href='vscode-notebook-cell:/c%3A/Users/tswmp/.vscode/yyui/sdsc3001/3001_Group_Project/SRW_on_Gd_v2.ipynb#X34sZmlsZQ%3D%3D?line=0'>1</a>\u001b[0m \u001b[39mwhile\u001b[39;00m \u001b[39mTrue\u001b[39;00m:\n\u001b[1;32m----> <a href='vscode-notebook-cell:/c%3A/Users/tswmp/.vscode/yyui/sdsc3001/3001_Group_Project/SRW_on_Gd_v2.ipynb#X34sZmlsZQ%3D%3D?line=1'>2</a>\u001b[0m     x, xl, pervious_transfor, induced_subgraph \u001b[39m=\u001b[39m extented_markov_chain(x, xl, pervious_transfor, \u001b[39mTrue\u001b[39;00m)\n",
      "\u001b[1;32mc:\\Users\\tswmp\\.vscode\\yyui\\sdsc3001\\3001_Group_Project\\SRW_on_Gd_v2.ipynb Cell 19\u001b[0m line \u001b[0;36m3\n\u001b[0;32m      <a href='vscode-notebook-cell:/c%3A/Users/tswmp/.vscode/yyui/sdsc3001/3001_Group_Project/SRW_on_Gd_v2.ipynb#X34sZmlsZQ%3D%3D?line=1'>2</a>\u001b[0m \u001b[39mdef\u001b[39;00m \u001b[39mextented_markov_chain\u001b[39m(x, xl, pervious_transfor\u001b[39m=\u001b[39m\u001b[39mFalse\u001b[39;00m, NB\u001b[39m=\u001b[39m\u001b[39mFalse\u001b[39;00m):\n\u001b[1;32m----> <a href='vscode-notebook-cell:/c%3A/Users/tswmp/.vscode/yyui/sdsc3001/3001_Group_Project/SRW_on_Gd_v2.ipynb#X34sZmlsZQ%3D%3D?line=2'>3</a>\u001b[0m     x, pervious_transfor \u001b[39m=\u001b[39m SRW(x, G, pervious_transfor, NB)\n\u001b[0;32m      <a href='vscode-notebook-cell:/c%3A/Users/tswmp/.vscode/yyui/sdsc3001/3001_Group_Project/SRW_on_Gd_v2.ipynb#X34sZmlsZQ%3D%3D?line=3'>4</a>\u001b[0m     xl\u001b[39m.\u001b[39mappend(x)\n\u001b[0;32m      <a href='vscode-notebook-cell:/c%3A/Users/tswmp/.vscode/yyui/sdsc3001/3001_Group_Project/SRW_on_Gd_v2.ipynb#X34sZmlsZQ%3D%3D?line=4'>5</a>\u001b[0m     induced_subgraph \u001b[39m=\u001b[39m subgraph_induced(xl)\n",
      "\u001b[1;32mc:\\Users\\tswmp\\.vscode\\yyui\\sdsc3001\\3001_Group_Project\\SRW_on_Gd_v2.ipynb Cell 19\u001b[0m line \u001b[0;36m9\n\u001b[0;32m      <a href='vscode-notebook-cell:/c%3A/Users/tswmp/.vscode/yyui/sdsc3001/3001_Group_Project/SRW_on_Gd_v2.ipynb#X34sZmlsZQ%3D%3D?line=5'>6</a>\u001b[0m \u001b[39mdef\u001b[39;00m \u001b[39mSRW\u001b[39m(X, G, pervious_transfor\u001b[39m=\u001b[39m\u001b[39mFalse\u001b[39;00m, NB\u001b[39m=\u001b[39m\u001b[39mFalse\u001b[39;00m):\n\u001b[0;32m      <a href='vscode-notebook-cell:/c%3A/Users/tswmp/.vscode/yyui/sdsc3001/3001_Group_Project/SRW_on_Gd_v2.ipynb#X34sZmlsZQ%3D%3D?line=7'>8</a>\u001b[0m     state \u001b[39m=\u001b[39m X\u001b[39m.\u001b[39mcopy()\n\u001b[1;32m----> <a href='vscode-notebook-cell:/c%3A/Users/tswmp/.vscode/yyui/sdsc3001/3001_Group_Project/SRW_on_Gd_v2.ipynb#X34sZmlsZQ%3D%3D?line=8'>9</a>\u001b[0m     srw \u001b[39m=\u001b[39m extract_valid_new_state(state, G)\n\u001b[0;32m     <a href='vscode-notebook-cell:/c%3A/Users/tswmp/.vscode/yyui/sdsc3001/3001_Group_Project/SRW_on_Gd_v2.ipynb#X34sZmlsZQ%3D%3D?line=10'>11</a>\u001b[0m     \u001b[39mif\u001b[39;00m NB \u001b[39mand\u001b[39;00m pervious_transfor:\n\u001b[0;32m     <a href='vscode-notebook-cell:/c%3A/Users/tswmp/.vscode/yyui/sdsc3001/3001_Group_Project/SRW_on_Gd_v2.ipynb#X34sZmlsZQ%3D%3D?line=12'>13</a>\u001b[0m         a, b \u001b[39m=\u001b[39m pervious_transfor\n",
      "\u001b[1;32mc:\\Users\\tswmp\\.vscode\\yyui\\sdsc3001\\3001_Group_Project\\SRW_on_Gd_v2.ipynb Cell 19\u001b[0m line \u001b[0;36m1\n\u001b[0;32m     <a href='vscode-notebook-cell:/c%3A/Users/tswmp/.vscode/yyui/sdsc3001/3001_Group_Project/SRW_on_Gd_v2.ipynb#X34sZmlsZQ%3D%3D?line=16'>17</a>\u001b[0m \u001b[39mfor\u001b[39;00m node_remained \u001b[39min\u001b[39;00m remining_nodes:\n\u001b[0;32m     <a href='vscode-notebook-cell:/c%3A/Users/tswmp/.vscode/yyui/sdsc3001/3001_Group_Project/SRW_on_Gd_v2.ipynb#X34sZmlsZQ%3D%3D?line=17'>18</a>\u001b[0m     \u001b[39mfor\u001b[39;00m newnode \u001b[39min\u001b[39;00m candidate_nodes_dict[node_remained]:\n\u001b[1;32m---> <a href='vscode-notebook-cell:/c%3A/Users/tswmp/.vscode/yyui/sdsc3001/3001_Group_Project/SRW_on_Gd_v2.ipynb#X34sZmlsZQ%3D%3D?line=18'>19</a>\u001b[0m             newedges \u001b[39m=\u001b[39m [(newnode, v) \u001b[39mfor\u001b[39;00m newnode, v \u001b[39min\u001b[39;00m G\u001b[39m.\u001b[39medges(newnode) \u001b[39mif\u001b[39;00m v \u001b[39min\u001b[39;00m walking_state]\n\u001b[0;32m     <a href='vscode-notebook-cell:/c%3A/Users/tswmp/.vscode/yyui/sdsc3001/3001_Group_Project/SRW_on_Gd_v2.ipynb#X34sZmlsZQ%3D%3D?line=19'>20</a>\u001b[0m             \u001b[39mif\u001b[39;00m newnode \u001b[39mnot\u001b[39;00m \u001b[39min\u001b[39;00m checked_candidate:\n\u001b[0;32m     <a href='vscode-notebook-cell:/c%3A/Users/tswmp/.vscode/yyui/sdsc3001/3001_Group_Project/SRW_on_Gd_v2.ipynb#X34sZmlsZQ%3D%3D?line=20'>21</a>\u001b[0m                 checked_candidate\u001b[39m.\u001b[39mappend(newnode)\n",
      "File \u001b[1;32mc:\\Users\\tswmp\\anaconda3\\Lib\\site-packages\\networkx\\classes\\reportviews.py:1091\u001b[0m, in \u001b[0;36mOutEdgeView.__call__\u001b[1;34m(self, nbunch, data, default)\u001b[0m\n\u001b[0;32m   1089\u001b[0m \u001b[39mif\u001b[39;00m nbunch \u001b[39mis\u001b[39;00m \u001b[39mNone\u001b[39;00m \u001b[39mand\u001b[39;00m data \u001b[39mis\u001b[39;00m \u001b[39mFalse\u001b[39;00m:\n\u001b[0;32m   1090\u001b[0m     \u001b[39mreturn\u001b[39;00m \u001b[39mself\u001b[39m\n\u001b[1;32m-> 1091\u001b[0m \u001b[39mreturn\u001b[39;00m \u001b[39mself\u001b[39m\u001b[39m.\u001b[39mdataview(\u001b[39mself\u001b[39m, nbunch, data, default)\n",
      "File \u001b[1;32mc:\\Users\\tswmp\\anaconda3\\Lib\\site-packages\\networkx\\classes\\reportviews.py:767\u001b[0m, in \u001b[0;36mOutEdgeDataView.__init__\u001b[1;34m(self, viewer, nbunch, data, default)\u001b[0m\n\u001b[0;32m    764\u001b[0m     \u001b[39mself\u001b[39m\u001b[39m.\u001b[39m_nodes_nbrs \u001b[39m=\u001b[39m adjdict\u001b[39m.\u001b[39mitems\n\u001b[0;32m    765\u001b[0m \u001b[39melse\u001b[39;00m:\n\u001b[0;32m    766\u001b[0m     \u001b[39m# dict retains order of nodes but acts like a set\u001b[39;00m\n\u001b[1;32m--> 767\u001b[0m     nbunch \u001b[39m=\u001b[39m \u001b[39mdict\u001b[39m\u001b[39m.\u001b[39mfromkeys(viewer\u001b[39m.\u001b[39m_graph\u001b[39m.\u001b[39mnbunch_iter(nbunch))\n\u001b[0;32m    768\u001b[0m     \u001b[39mself\u001b[39m\u001b[39m.\u001b[39m_nodes_nbrs \u001b[39m=\u001b[39m \u001b[39mlambda\u001b[39;00m: [(n, adjdict[n]) \u001b[39mfor\u001b[39;00m n \u001b[39min\u001b[39;00m nbunch]\n\u001b[0;32m    769\u001b[0m \u001b[39mself\u001b[39m\u001b[39m.\u001b[39m_nbunch \u001b[39m=\u001b[39m nbunch\n",
      "File \u001b[1;32mc:\\Users\\tswmp\\anaconda3\\Lib\\site-packages\\networkx\\classes\\graph.py:2005\u001b[0m, in \u001b[0;36mGraph.nbunch_iter\u001b[1;34m(self, nbunch)\u001b[0m\n\u001b[0;32m   2003\u001b[0m     bunch \u001b[39m=\u001b[39m \u001b[39miter\u001b[39m(\u001b[39mself\u001b[39m\u001b[39m.\u001b[39m_adj)\n\u001b[0;32m   2004\u001b[0m \u001b[39melif\u001b[39;00m nbunch \u001b[39min\u001b[39;00m \u001b[39mself\u001b[39m:  \u001b[39m# if nbunch is a single node\u001b[39;00m\n\u001b[1;32m-> 2005\u001b[0m     bunch \u001b[39m=\u001b[39m \u001b[39miter\u001b[39m([nbunch])\n\u001b[0;32m   2006\u001b[0m \u001b[39melse\u001b[39;00m:  \u001b[39m# if nbunch is a sequence of nodes\u001b[39;00m\n\u001b[0;32m   2008\u001b[0m     \u001b[39mdef\u001b[39;00m \u001b[39mbunch_iter\u001b[39m(nlist, adj):\n",
      "\u001b[1;31mKeyboardInterrupt\u001b[0m: "
     ]
    }
   ],
   "source": [
    "while True:\n",
    "    x, xl, pervious_transfor, induced_subgraph = extented_markov_chain(x, xl, pervious_transfor, True)"
   ]
  },
  {
   "cell_type": "code",
   "execution_count": 181,
   "metadata": {},
   "outputs": [],
   "source": [
    "x, xl, pervious_transfor, induced_subgraph = extented_markov_chain(x, xl, pervious_transfor, True)"
   ]
  },
  {
   "cell_type": "code",
   "execution_count": 182,
   "metadata": {},
   "outputs": [
    {
     "data": {
      "text/plain": [
       "NodeView((1, 2, 0, 4, 3))"
      ]
     },
     "execution_count": 182,
     "metadata": {},
     "output_type": "execute_result"
    }
   ],
   "source": [
    "induced_subgraph.nodes()"
   ]
  },
  {
   "cell_type": "code",
   "execution_count": 183,
   "metadata": {},
   "outputs": [
    {
     "name": "stdout",
     "output_type": "stream",
     "text": [
      "[1, 2, 0, 4]\n",
      "[1, 2, 4, 3]\n"
     ]
    }
   ],
   "source": [
    "for state in xl:\n",
    "    print(state.nodes())"
   ]
  },
  {
   "cell_type": "code",
   "execution_count": null,
   "metadata": {},
   "outputs": [],
   "source": []
  }
 ],
 "metadata": {
  "kernelspec": {
   "display_name": "base",
   "language": "python",
   "name": "python3"
  },
  "language_info": {
   "codemirror_mode": {
    "name": "ipython",
    "version": 3
   },
   "file_extension": ".py",
   "mimetype": "text/x-python",
   "name": "python",
   "nbconvert_exporter": "python",
   "pygments_lexer": "ipython3",
   "version": "3.11.5"
  }
 },
 "nbformat": 4,
 "nbformat_minor": 2
}
